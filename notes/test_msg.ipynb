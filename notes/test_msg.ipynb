{
 "cells": [
  {
   "cell_type": "code",
   "execution_count": 2,
   "metadata": {},
   "outputs": [],
   "source": [
    "from datasets import load_dataset"
   ]
  },
  {
   "cell_type": "code",
   "execution_count": 3,
   "metadata": {},
   "outputs": [],
   "source": [
    "msg = load_dataset('roman-bushuiev/MassSpecGym', data_files='data/MassSpecGym.tsv', split='train')"
   ]
  },
  {
   "cell_type": "code",
   "execution_count": 5,
   "metadata": {},
   "outputs": [
    {
     "name": "stdout",
     "output_type": "stream",
     "text": [
      "msbuddy: molecular formula annotation for MS-based small molecule analysis.\n",
      "Developed and maintained by Shipei Xing.\n"
     ]
    }
   ],
   "source": [
    "from msbuddy import Msbuddy, MsbuddyConfig\n",
    "df = msg.select(range(100)).to_pandas()\n",
    "# instantiate a MsbuddyConfig object\n",
    "msb_config = MsbuddyConfig(ms_instr='orbitrap', # supported: \"qtof\", \"orbitrap\", \"fticr\" or None\n",
    "                                                # custom MS1 and MS2 tolerance will be used if None\n",
    "                        ppm=True,  # use ppm for mass tolerance\n",
    "                        ms1_tol=5,  # MS1 tolerance in ppm or Da\n",
    "                        ms2_tol=10,  # MS2 tolerance in ppm or Da\n",
    "                        halogen=False)\n",
    "# instantiate a Msbuddy object\n",
    "msb_engine = Msbuddy(msb_config);"
   ]
  },
  {
   "cell_type": "code",
   "execution_count": 6,
   "metadata": {},
   "outputs": [
    {
     "data": {
      "text/html": [
       "<div>\n",
       "<style scoped>\n",
       "    .dataframe tbody tr th:only-of-type {\n",
       "        vertical-align: middle;\n",
       "    }\n",
       "\n",
       "    .dataframe tbody tr th {\n",
       "        vertical-align: top;\n",
       "    }\n",
       "\n",
       "    .dataframe thead th {\n",
       "        text-align: right;\n",
       "    }\n",
       "</style>\n",
       "<table border=\"1\" class=\"dataframe\">\n",
       "  <thead>\n",
       "    <tr style=\"text-align: right;\">\n",
       "      <th></th>\n",
       "      <th>identifier</th>\n",
       "      <th>mzs</th>\n",
       "      <th>intensities</th>\n",
       "      <th>smiles</th>\n",
       "      <th>inchikey</th>\n",
       "      <th>formula</th>\n",
       "      <th>precursor_formula</th>\n",
       "      <th>parent_mass</th>\n",
       "      <th>precursor_mz</th>\n",
       "      <th>adduct</th>\n",
       "      <th>instrument_type</th>\n",
       "      <th>collision_energy</th>\n",
       "      <th>fold</th>\n",
       "      <th>simulation_challenge</th>\n",
       "    </tr>\n",
       "  </thead>\n",
       "  <tbody>\n",
       "    <tr>\n",
       "      <th>0</th>\n",
       "      <td>MassSpecGymID0000001</td>\n",
       "      <td>91.0542,125.0233,154.0499,155.0577,185.0961,20...</td>\n",
       "      <td>0.24524524524524524,1.0,0.08008008008008008,0....</td>\n",
       "      <td>CC(=O)N[C@@H](CC1=CC=CC=C1)C2=CC(=CC(=O)O2)OC</td>\n",
       "      <td>VFMQMACUYWGDOJ</td>\n",
       "      <td>C16H17NO4</td>\n",
       "      <td>C16H18NO4</td>\n",
       "      <td>287.115224</td>\n",
       "      <td>288.1225</td>\n",
       "      <td>[M+H]+</td>\n",
       "      <td>Orbitrap</td>\n",
       "      <td>30.0</td>\n",
       "      <td>train</td>\n",
       "      <td>True</td>\n",
       "    </tr>\n",
       "    <tr>\n",
       "      <th>1</th>\n",
       "      <td>MassSpecGymID0000002</td>\n",
       "      <td>91.0542,125.0233,155.0577,185.0961,229.0859,24...</td>\n",
       "      <td>0.0990990990990991,0.28128128128128127,0.04004...</td>\n",
       "      <td>CC(=O)N[C@@H](CC1=CC=CC=C1)C2=CC(=CC(=O)O2)OC</td>\n",
       "      <td>VFMQMACUYWGDOJ</td>\n",
       "      <td>C16H17NO4</td>\n",
       "      <td>C16H18NO4</td>\n",
       "      <td>287.115224</td>\n",
       "      <td>288.1225</td>\n",
       "      <td>[M+H]+</td>\n",
       "      <td>Orbitrap</td>\n",
       "      <td>20.0</td>\n",
       "      <td>train</td>\n",
       "      <td>True</td>\n",
       "    </tr>\n",
       "    <tr>\n",
       "      <th>2</th>\n",
       "      <td>MassSpecGymID0000003</td>\n",
       "      <td>69.0343,91.0542,125.0233,127.039,153.0699,154....</td>\n",
       "      <td>0.03403403403403404,0.31431431431431434,1.0,0....</td>\n",
       "      <td>CC(=O)N[C@@H](CC1=CC=CC=C1)C2=CC(=CC(=O)O2)OC</td>\n",
       "      <td>VFMQMACUYWGDOJ</td>\n",
       "      <td>C16H17NO4</td>\n",
       "      <td>C16H18NO4</td>\n",
       "      <td>287.115224</td>\n",
       "      <td>288.1225</td>\n",
       "      <td>[M+H]+</td>\n",
       "      <td>Orbitrap</td>\n",
       "      <td>40.0</td>\n",
       "      <td>train</td>\n",
       "      <td>True</td>\n",
       "    </tr>\n",
       "    <tr>\n",
       "      <th>3</th>\n",
       "      <td>MassSpecGymID0000004</td>\n",
       "      <td>69.0343,91.0542,110.06,111.0441,112.0393,120.0...</td>\n",
       "      <td>0.17917917917917917,0.47347347347347346,0.0380...</td>\n",
       "      <td>CC(=O)N[C@@H](CC1=CC=CC=C1)C2=CC(=CC(=O)O2)OC</td>\n",
       "      <td>VFMQMACUYWGDOJ</td>\n",
       "      <td>C16H17NO4</td>\n",
       "      <td>C16H18NO4</td>\n",
       "      <td>287.115224</td>\n",
       "      <td>288.1225</td>\n",
       "      <td>[M+H]+</td>\n",
       "      <td>Orbitrap</td>\n",
       "      <td>55.0</td>\n",
       "      <td>train</td>\n",
       "      <td>True</td>\n",
       "    </tr>\n",
       "    <tr>\n",
       "      <th>4</th>\n",
       "      <td>MassSpecGymID0000005</td>\n",
       "      <td>91.0542,125.0233,185.0961,229.0859,246.1125,28...</td>\n",
       "      <td>0.07807807807807808,0.1841841841841842,0.03503...</td>\n",
       "      <td>CC(=O)N[C@@H](CC1=CC=CC=C1)C2=CC(=CC(=O)O2)OC</td>\n",
       "      <td>VFMQMACUYWGDOJ</td>\n",
       "      <td>C16H17NO4</td>\n",
       "      <td>C16H18NO4</td>\n",
       "      <td>287.115224</td>\n",
       "      <td>288.1225</td>\n",
       "      <td>[M+H]+</td>\n",
       "      <td>Orbitrap</td>\n",
       "      <td>10.0</td>\n",
       "      <td>train</td>\n",
       "      <td>True</td>\n",
       "    </tr>\n",
       "    <tr>\n",
       "      <th>...</th>\n",
       "      <td>...</td>\n",
       "      <td>...</td>\n",
       "      <td>...</td>\n",
       "      <td>...</td>\n",
       "      <td>...</td>\n",
       "      <td>...</td>\n",
       "      <td>...</td>\n",
       "      <td>...</td>\n",
       "      <td>...</td>\n",
       "      <td>...</td>\n",
       "      <td>...</td>\n",
       "      <td>...</td>\n",
       "      <td>...</td>\n",
       "      <td>...</td>\n",
       "    </tr>\n",
       "    <tr>\n",
       "      <th>95</th>\n",
       "      <td>MassSpecGymID0000108</td>\n",
       "      <td>69.0335,71.0491,79.0542,83.0491,85.0284,95.049...</td>\n",
       "      <td>0.06906906906906907,0.09009009009009009,0.0360...</td>\n",
       "      <td>CC1=C[C@@H]2[C@]([C@@H](C1=O)O)([C@]3([C@@H]([...</td>\n",
       "      <td>XGCUCFKWVIWWNW</td>\n",
       "      <td>C17H22O8</td>\n",
       "      <td>C17H23O8</td>\n",
       "      <td>354.130924</td>\n",
       "      <td>355.1382</td>\n",
       "      <td>[M+H]+</td>\n",
       "      <td>Orbitrap</td>\n",
       "      <td>35.0</td>\n",
       "      <td>train</td>\n",
       "      <td>True</td>\n",
       "    </tr>\n",
       "    <tr>\n",
       "      <th>96</th>\n",
       "      <td>MassSpecGymID0000109</td>\n",
       "      <td>67.0542,69.0335,71.0491,79.0542,81.0699,83.049...</td>\n",
       "      <td>0.04904904904904905,0.11011011011011011,0.0920...</td>\n",
       "      <td>CC1=C[C@@H]2[C@]([C@@H](C1=O)O)([C@]3([C@@H]([...</td>\n",
       "      <td>XGCUCFKWVIWWNW</td>\n",
       "      <td>C17H22O8</td>\n",
       "      <td>C17H23O8</td>\n",
       "      <td>354.130924</td>\n",
       "      <td>355.1382</td>\n",
       "      <td>[M+H]+</td>\n",
       "      <td>Orbitrap</td>\n",
       "      <td>50.0</td>\n",
       "      <td>train</td>\n",
       "      <td>True</td>\n",
       "    </tr>\n",
       "    <tr>\n",
       "      <th>97</th>\n",
       "      <td>MassSpecGymID0000110</td>\n",
       "      <td>69.0335,71.0491,85.0284,95.0491,97.0648,99.044...</td>\n",
       "      <td>0.05005005005005005,0.07607607607607608,0.0630...</td>\n",
       "      <td>CC1=C[C@@H]2[C@]([C@@H](C1=O)O)([C@]3([C@@H]([...</td>\n",
       "      <td>XGCUCFKWVIWWNW</td>\n",
       "      <td>C17H22O8</td>\n",
       "      <td>C17H23O8</td>\n",
       "      <td>354.130924</td>\n",
       "      <td>355.1382</td>\n",
       "      <td>[M+H]+</td>\n",
       "      <td>Orbitrap</td>\n",
       "      <td>30.0</td>\n",
       "      <td>train</td>\n",
       "      <td>True</td>\n",
       "    </tr>\n",
       "    <tr>\n",
       "      <th>98</th>\n",
       "      <td>MassSpecGymID0000111</td>\n",
       "      <td>85.0284,99.0441,109.0648,123.0441,125.0597,137...</td>\n",
       "      <td>0.03903903903903904,0.22422422422422422,0.0380...</td>\n",
       "      <td>CC1=C[C@@H]2[C@]([C@@H](C1=O)O)([C@]3([C@@H]([...</td>\n",
       "      <td>XGCUCFKWVIWWNW</td>\n",
       "      <td>C17H22O8</td>\n",
       "      <td>C17H23O8</td>\n",
       "      <td>354.130924</td>\n",
       "      <td>355.1382</td>\n",
       "      <td>[M+H]+</td>\n",
       "      <td>Orbitrap</td>\n",
       "      <td>20.0</td>\n",
       "      <td>train</td>\n",
       "      <td>True</td>\n",
       "    </tr>\n",
       "    <tr>\n",
       "      <th>99</th>\n",
       "      <td>MassSpecGymID0000112</td>\n",
       "      <td>287.089,377.1207</td>\n",
       "      <td>0.044044044044044044,1.0</td>\n",
       "      <td>CC1=C[C@@H]2[C@]([C@@H](C1=O)O)([C@]3([C@@H]([...</td>\n",
       "      <td>XGCUCFKWVIWWNW</td>\n",
       "      <td>C17H22O8</td>\n",
       "      <td>C17H22NaO8</td>\n",
       "      <td>354.130882</td>\n",
       "      <td>377.1201</td>\n",
       "      <td>[M+Na]+</td>\n",
       "      <td>Orbitrap</td>\n",
       "      <td>35.0</td>\n",
       "      <td>train</td>\n",
       "      <td>False</td>\n",
       "    </tr>\n",
       "  </tbody>\n",
       "</table>\n",
       "<p>100 rows × 14 columns</p>\n",
       "</div>"
      ],
      "text/plain": [
       "              identifier                                                mzs  \\\n",
       "0   MassSpecGymID0000001  91.0542,125.0233,154.0499,155.0577,185.0961,20...   \n",
       "1   MassSpecGymID0000002  91.0542,125.0233,155.0577,185.0961,229.0859,24...   \n",
       "2   MassSpecGymID0000003  69.0343,91.0542,125.0233,127.039,153.0699,154....   \n",
       "3   MassSpecGymID0000004  69.0343,91.0542,110.06,111.0441,112.0393,120.0...   \n",
       "4   MassSpecGymID0000005  91.0542,125.0233,185.0961,229.0859,246.1125,28...   \n",
       "..                   ...                                                ...   \n",
       "95  MassSpecGymID0000108  69.0335,71.0491,79.0542,83.0491,85.0284,95.049...   \n",
       "96  MassSpecGymID0000109  67.0542,69.0335,71.0491,79.0542,81.0699,83.049...   \n",
       "97  MassSpecGymID0000110  69.0335,71.0491,85.0284,95.0491,97.0648,99.044...   \n",
       "98  MassSpecGymID0000111  85.0284,99.0441,109.0648,123.0441,125.0597,137...   \n",
       "99  MassSpecGymID0000112                                   287.089,377.1207   \n",
       "\n",
       "                                          intensities  \\\n",
       "0   0.24524524524524524,1.0,0.08008008008008008,0....   \n",
       "1   0.0990990990990991,0.28128128128128127,0.04004...   \n",
       "2   0.03403403403403404,0.31431431431431434,1.0,0....   \n",
       "3   0.17917917917917917,0.47347347347347346,0.0380...   \n",
       "4   0.07807807807807808,0.1841841841841842,0.03503...   \n",
       "..                                                ...   \n",
       "95  0.06906906906906907,0.09009009009009009,0.0360...   \n",
       "96  0.04904904904904905,0.11011011011011011,0.0920...   \n",
       "97  0.05005005005005005,0.07607607607607608,0.0630...   \n",
       "98  0.03903903903903904,0.22422422422422422,0.0380...   \n",
       "99                           0.044044044044044044,1.0   \n",
       "\n",
       "                                               smiles        inchikey  \\\n",
       "0       CC(=O)N[C@@H](CC1=CC=CC=C1)C2=CC(=CC(=O)O2)OC  VFMQMACUYWGDOJ   \n",
       "1       CC(=O)N[C@@H](CC1=CC=CC=C1)C2=CC(=CC(=O)O2)OC  VFMQMACUYWGDOJ   \n",
       "2       CC(=O)N[C@@H](CC1=CC=CC=C1)C2=CC(=CC(=O)O2)OC  VFMQMACUYWGDOJ   \n",
       "3       CC(=O)N[C@@H](CC1=CC=CC=C1)C2=CC(=CC(=O)O2)OC  VFMQMACUYWGDOJ   \n",
       "4       CC(=O)N[C@@H](CC1=CC=CC=C1)C2=CC(=CC(=O)O2)OC  VFMQMACUYWGDOJ   \n",
       "..                                                ...             ...   \n",
       "95  CC1=C[C@@H]2[C@]([C@@H](C1=O)O)([C@]3([C@@H]([...  XGCUCFKWVIWWNW   \n",
       "96  CC1=C[C@@H]2[C@]([C@@H](C1=O)O)([C@]3([C@@H]([...  XGCUCFKWVIWWNW   \n",
       "97  CC1=C[C@@H]2[C@]([C@@H](C1=O)O)([C@]3([C@@H]([...  XGCUCFKWVIWWNW   \n",
       "98  CC1=C[C@@H]2[C@]([C@@H](C1=O)O)([C@]3([C@@H]([...  XGCUCFKWVIWWNW   \n",
       "99  CC1=C[C@@H]2[C@]([C@@H](C1=O)O)([C@]3([C@@H]([...  XGCUCFKWVIWWNW   \n",
       "\n",
       "      formula precursor_formula  parent_mass  precursor_mz   adduct  \\\n",
       "0   C16H17NO4         C16H18NO4   287.115224      288.1225   [M+H]+   \n",
       "1   C16H17NO4         C16H18NO4   287.115224      288.1225   [M+H]+   \n",
       "2   C16H17NO4         C16H18NO4   287.115224      288.1225   [M+H]+   \n",
       "3   C16H17NO4         C16H18NO4   287.115224      288.1225   [M+H]+   \n",
       "4   C16H17NO4         C16H18NO4   287.115224      288.1225   [M+H]+   \n",
       "..        ...               ...          ...           ...      ...   \n",
       "95   C17H22O8          C17H23O8   354.130924      355.1382   [M+H]+   \n",
       "96   C17H22O8          C17H23O8   354.130924      355.1382   [M+H]+   \n",
       "97   C17H22O8          C17H23O8   354.130924      355.1382   [M+H]+   \n",
       "98   C17H22O8          C17H23O8   354.130924      355.1382   [M+H]+   \n",
       "99   C17H22O8        C17H22NaO8   354.130882      377.1201  [M+Na]+   \n",
       "\n",
       "   instrument_type  collision_energy   fold  simulation_challenge  \n",
       "0         Orbitrap              30.0  train                  True  \n",
       "1         Orbitrap              20.0  train                  True  \n",
       "2         Orbitrap              40.0  train                  True  \n",
       "3         Orbitrap              55.0  train                  True  \n",
       "4         Orbitrap              10.0  train                  True  \n",
       "..             ...               ...    ...                   ...  \n",
       "95        Orbitrap              35.0  train                  True  \n",
       "96        Orbitrap              50.0  train                  True  \n",
       "97        Orbitrap              30.0  train                  True  \n",
       "98        Orbitrap              20.0  train                  True  \n",
       "99        Orbitrap              35.0  train                 False  \n",
       "\n",
       "[100 rows x 14 columns]"
      ]
     },
     "execution_count": 6,
     "metadata": {},
     "output_type": "execute_result"
    }
   ],
   "source": [
    "df"
   ]
  },
  {
   "cell_type": "code",
   "execution_count": 7,
   "metadata": {},
   "outputs": [],
   "source": [
    "from msbuddy.base import MetaFeature, Spectrum"
   ]
  },
  {
   "cell_type": "code",
   "execution_count": 7,
   "metadata": {},
   "outputs": [
    {
     "data": {
      "text/plain": [
       "(array([ 91.0542, 125.0233, 154.0499, 155.0577, 185.0961, 200.107 ,\n",
       "        229.0859, 246.1125]),\n",
       " array([0.24524525, 1.        , 0.08008008, 0.35535536, 0.34934935,\n",
       "        0.04504505, 0.14214214, 0.73473473]))"
      ]
     },
     "execution_count": 7,
     "metadata": {},
     "output_type": "execute_result"
    }
   ],
   "source": [
    "import numpy as np\n",
    "s = df.iloc[0]\n",
    "\n",
    "mz_array = np.array(list(map(float, s.mzs.split(','))))\n",
    "int_array = np.array(list(map(float, s.intensities.split(','))))\n",
    "mz_array, int_array"
   ]
  },
  {
   "cell_type": "code",
   "execution_count": null,
   "metadata": {},
   "outputs": [],
   "source": []
  },
  {
   "cell_type": "code",
   "execution_count": 12,
   "metadata": {},
   "outputs": [],
   "source": [
    "ms2_spec = Spectrum(\n",
    "    mz_array=mz_array,\n",
    "    int_array=int_array,\n",
    ")\n",
    "\n",
    "metafeature = MetaFeature(\n",
    "    identifier = 0,  # unique identifier for the MetaFeature object\n",
    "    mz = s.precursor_mz,  # precursor m/z\n",
    "    rt = None,  # retention time, can be None if not available\n",
    "    charge = 1,  # precursor charge\n",
    "    adduct = '[M+H]+',\n",
    "    ms2 = ms2_spec)"
   ]
  },
  {
   "cell_type": "code",
   "execution_count": 13,
   "metadata": {},
   "outputs": [],
   "source": [
    "msb_engine.add_data([metafeature])"
   ]
  },
  {
   "cell_type": "code",
   "execution_count": 16,
   "metadata": {},
   "outputs": [
    {
     "name": "stdout",
     "output_type": "stream",
     "text": [
      "1 query loaded.\n",
      "1 batch in total.\n",
      "Batch 1/1:\n",
      "Candidate space generation: 100%|\u001b[32m██████████\u001b[0m| 1/1 [00:07<00:00,  7.09s/it]\n",
      "Subformula assignment: 100%|\u001b[32m██████████\u001b[0m| 1/1 [00:04<00:00,  4.70s/it]\n",
      "Candidate formula ranking...\n",
      "FDR calculation: 100%|\u001b[32m██████████\u001b[0m| 1/1 [00:00<00:00, 12826.62it/s]\n",
      "Job finished.\n"
     ]
    }
   ],
   "source": [
    "msb_engine.annotate_formula()"
   ]
  },
  {
   "cell_type": "code",
   "execution_count": 18,
   "metadata": {},
   "outputs": [],
   "source": [
    "results = msb_engine.get_summary()"
   ]
  },
  {
   "cell_type": "code",
   "execution_count": 19,
   "metadata": {},
   "outputs": [
    {
     "data": {
      "text/plain": [
       "[{'identifier': 0,\n",
       "  'mz': 288.1225,\n",
       "  'rt': None,\n",
       "  'adduct': '[M+H]+',\n",
       "  'formula_rank_1': 'C16H17NO4',\n",
       "  'estimated_fdr': 0.0006285439313621355,\n",
       "  'formula_rank_2': 'C10H18N5O3P',\n",
       "  'formula_rank_3': 'C8H21N3O6S',\n",
       "  'formula_rank_4': 'C9H17N7O2S',\n",
       "  'formula_rank_5': None}]"
      ]
     },
     "execution_count": 19,
     "metadata": {},
     "output_type": "execute_result"
    }
   ],
   "source": [
    "results"
   ]
  },
  {
   "cell_type": "code",
   "execution_count": null,
   "metadata": {},
   "outputs": [],
   "source": []
  },
  {
   "cell_type": "code",
   "execution_count": 20,
   "metadata": {},
   "outputs": [
    {
     "name": "stdout",
     "output_type": "stream",
     "text": [
      "MetaFeature mz288.1225  rt: None  rank: 1Formula: C16H17NO4  estimated FDR: 0.0006285439313621355\n",
      "MetaFeature mz288.1225  rt: None  rank: 2Formula: C10H18N5O3P  estimated FDR: 0.5000384343338329\n",
      "MetaFeature mz288.1225  rt: None  rank: 3Formula: C8H21N3O6S  estimated FDR: 0.6666718275522459\n",
      "MetaFeature mz288.1225  rt: None  rank: 4Formula: C9H17N7O2S  estimated FDR: 0.75\n"
     ]
    }
   ],
   "source": [
    "for meta_feature in msb_engine.data:\n",
    "    for i, candidate in enumerate(meta_feature.candidate_formula_list):\n",
    "        print('MetaFeature mz' + str(meta_feature.mz) + '  rt: ' + str(meta_feature.rt) + \\\n",
    "        '  rank: ' + str(i+1) + 'Formula: ' + candidate.formula.__str__() + \\\n",
    "        '  estimated FDR: ' + str(candidate.estimated_fdr))"
   ]
  },
  {
   "cell_type": "code",
   "execution_count": null,
   "metadata": {},
   "outputs": [],
   "source": [
    "\n",
    "# load data, here we use a mgf file as an example\n",
    "msb_engine.load_mgf('input_file.mgf')\n",
    "\n",
    "# annotate molecular formula\n",
    "msb_engine.annotate_formula()\n",
    "\n",
    "# retrieve the annotation result summary\n",
    "result = msb_engine.get_summary()"
   ]
  },
  {
   "cell_type": "code",
   "execution_count": null,
   "metadata": {},
   "outputs": [],
   "source": []
  }
 ],
 "metadata": {
  "kernelspec": {
   "display_name": "Python 3",
   "language": "python",
   "name": "python3"
  },
  "language_info": {
   "codemirror_mode": {
    "name": "ipython",
    "version": 3
   },
   "file_extension": ".py",
   "mimetype": "text/x-python",
   "name": "python",
   "nbconvert_exporter": "python",
   "pygments_lexer": "ipython3",
   "version": "3.11.8"
  }
 },
 "nbformat": 4,
 "nbformat_minor": 2
}
