{
 "cells": [
  {
   "cell_type": "markdown",
   "metadata": {},
   "source": [
    "Here's what I'll do.\n",
    "\n",
    "1. Get 100 random spectra.\n",
    "1. Run msbuddy in serial\n",
    "-> \n",
    "1. See how many cand forms we have\n",
    "1. See what's inside each, and how `enumerate_subformula` and `_calc_subform_mass` work\n",
    "\n",
    "->->\n",
    "\n",
    "1. `enumerate_subformula` - what does it do?\n",
    "\n",
    "Input: pre_charged_arr, list of ints\n",
    "Inside:\n",
    "\n",
    "1. For given precursor formula, split it in all possible ways\n",
    "1. Create an array with all possible resultant subformulas\n",
    "\n",
    "Output: 2D array, each row is subformula array\n"
   ]
  },
  {
   "cell_type": "code",
   "execution_count": 1,
   "metadata": {},
   "outputs": [],
   "source": [
    "from msbuddy.utils import enumerate_subformula"
   ]
  },
  {
   "cell_type": "code",
   "execution_count": 7,
   "metadata": {},
   "outputs": [],
   "source": [
    "import numpy as np"
   ]
  },
  {
   "cell_type": "code",
   "execution_count": 84,
   "metadata": {},
   "outputs": [
    {
     "name": "stdout",
     "output_type": "stream",
     "text": [
      "[10 20  0  0  0  0  0  0  0  5  0  0]\n",
      "C10H20O5\n",
      "[[ 0  0  0 ...  0  0  0]\n",
      " [ 1  0  0 ...  0  0  0]\n",
      " [ 2  0  0 ...  0  0  0]\n",
      " ...\n",
      " [ 8 20  0 ...  5  0  0]\n",
      " [ 9 20  0 ...  5  0  0]\n",
      " [10 20  0 ...  5  0  0]]\n"
     ]
    }
   ],
   "source": [
    "from msbuddy import read_formula\n",
    "from msbuddy import form_arr_to_str\n",
    "from msbuddy import enumerate_subform_arr\n",
    "\n",
    "formula_array = read_formula(\"C10H20O5\")\n",
    "print(formula_array)\n",
    "\n",
    "formula_str = form_arr_to_str([10, 20, 0, 0, 0, 0, 0, 0, 0, 5, 0, 0])\n",
    "print(formula_str)\n",
    "\n",
    "all_subform_arr = enumerate_subform_arr([10, 20, 0, 0, 0, 0, 0, 0, 0, 5, 0, 0])\n",
    "print(all_subform_arr)"
   ]
  },
  {
   "cell_type": "code",
   "execution_count": 9,
   "metadata": {},
   "outputs": [],
   "source": [
    "from numba import njit\n",
    "\n",
    "@njit\n",
    "def enumerate_subformula(pre_charged_arr: np.array) -> np.array:\n",
    "    \"\"\"\n",
    "    Enumerate all subformulas of a candidate formula. (Numba version)\n",
    "    :param pre_charged_arr: precursor charged array\n",
    "    :return: 2D array, each row is a subformula array\n",
    "    \"\"\"\n",
    "    n = len(pre_charged_arr)\n",
    "    total_subform_cnt = np.prod(pre_charged_arr + 1)\n",
    "\n",
    "    subform_arr = np.zeros((total_subform_cnt, n), dtype=np.int16)\n",
    "    tempSize = 1\n",
    "\n",
    "    for i in range(n):\n",
    "        count = pre_charged_arr[i]\n",
    "        repeatSize = tempSize\n",
    "        tempSize *= (count + 1)\n",
    "\n",
    "        pattern = np.arange(count + 1)\n",
    "\n",
    "        repeated_pattern = np.empty(repeatSize * len(pattern), dtype=np.int16)\n",
    "        for j in range(len(pattern)):\n",
    "            repeated_pattern[j * repeatSize: (j + 1) * repeatSize] = pattern[j]\n",
    "\n",
    "        full_repeats = total_subform_cnt // len(repeated_pattern)\n",
    "\n",
    "        for j in range(full_repeats):\n",
    "            start_idx = j * len(repeated_pattern)\n",
    "            end_idx = (j + 1) * len(repeated_pattern)\n",
    "            subform_arr[start_idx:end_idx, i] = repeated_pattern\n",
    "\n",
    "    return subform_arr"
   ]
  },
  {
   "cell_type": "code",
   "execution_count": 58,
   "metadata": {},
   "outputs": [
    {
     "name": "stdout",
     "output_type": "stream",
     "text": [
      "(1386, 12)\n"
     ]
    },
    {
     "data": {
      "text/plain": [
       "array([[ 0,  0,  0, ...,  0,  0,  0],\n",
       "       [ 1,  0,  0, ...,  0,  0,  0],\n",
       "       [ 2,  0,  0, ...,  0,  0,  0],\n",
       "       ...,\n",
       "       [ 8, 20,  0, ...,  5,  0,  0],\n",
       "       [ 9, 20,  0, ...,  5,  0,  0],\n",
       "       [10, 20,  0, ...,  5,  0,  0]], dtype=int16)"
      ]
     },
     "execution_count": 58,
     "metadata": {},
     "output_type": "execute_result"
    }
   ],
   "source": [
    "arr = enumerate_subformula(\n",
    "    formula_array\n",
    ")\n",
    "print(arr.shape)\n",
    "arr"
   ]
  },
  {
   "cell_type": "code",
   "execution_count": null,
   "metadata": {},
   "outputs": [],
   "source": []
  },
  {
   "cell_type": "code",
   "execution_count": 74,
   "metadata": {},
   "outputs": [
    {
     "name": "stdout",
     "output_type": "stream",
     "text": [
      "torch.Size([1386, 12])\n"
     ]
    },
    {
     "data": {
      "text/plain": [
       "tensor([[0., 0., 0., 0., 0., 0., 0., 0., 0., 0., 0., 0.],\n",
       "        [0., 0., 0., 0., 0., 0., 0., 0., 0., 1., 0., 0.],\n",
       "        [0., 0., 0., 0., 0., 0., 0., 0., 0., 2., 0., 0.],\n",
       "        [0., 0., 0., 0., 0., 0., 0., 0., 0., 3., 0., 0.],\n",
       "        [0., 0., 0., 0., 0., 0., 0., 0., 0., 4., 0., 0.],\n",
       "        [0., 0., 0., 0., 0., 0., 0., 0., 0., 5., 0., 0.],\n",
       "        [0., 1., 0., 0., 0., 0., 0., 0., 0., 0., 0., 0.],\n",
       "        [0., 1., 0., 0., 0., 0., 0., 0., 0., 1., 0., 0.],\n",
       "        [0., 1., 0., 0., 0., 0., 0., 0., 0., 2., 0., 0.],\n",
       "        [0., 1., 0., 0., 0., 0., 0., 0., 0., 3., 0., 0.],\n",
       "        [0., 1., 0., 0., 0., 0., 0., 0., 0., 4., 0., 0.],\n",
       "        [0., 1., 0., 0., 0., 0., 0., 0., 0., 5., 0., 0.],\n",
       "        [0., 2., 0., 0., 0., 0., 0., 0., 0., 0., 0., 0.],\n",
       "        [0., 2., 0., 0., 0., 0., 0., 0., 0., 1., 0., 0.],\n",
       "        [0., 2., 0., 0., 0., 0., 0., 0., 0., 2., 0., 0.],\n",
       "        [0., 2., 0., 0., 0., 0., 0., 0., 0., 3., 0., 0.],\n",
       "        [0., 2., 0., 0., 0., 0., 0., 0., 0., 4., 0., 0.],\n",
       "        [0., 2., 0., 0., 0., 0., 0., 0., 0., 5., 0., 0.],\n",
       "        [0., 3., 0., 0., 0., 0., 0., 0., 0., 0., 0., 0.],\n",
       "        [0., 3., 0., 0., 0., 0., 0., 0., 0., 1., 0., 0.],\n",
       "        [0., 3., 0., 0., 0., 0., 0., 0., 0., 2., 0., 0.],\n",
       "        [0., 3., 0., 0., 0., 0., 0., 0., 0., 3., 0., 0.],\n",
       "        [0., 3., 0., 0., 0., 0., 0., 0., 0., 4., 0., 0.],\n",
       "        [0., 3., 0., 0., 0., 0., 0., 0., 0., 5., 0., 0.],\n",
       "        [0., 4., 0., 0., 0., 0., 0., 0., 0., 0., 0., 0.],\n",
       "        [0., 4., 0., 0., 0., 0., 0., 0., 0., 1., 0., 0.],\n",
       "        [0., 4., 0., 0., 0., 0., 0., 0., 0., 2., 0., 0.],\n",
       "        [0., 4., 0., 0., 0., 0., 0., 0., 0., 3., 0., 0.],\n",
       "        [0., 4., 0., 0., 0., 0., 0., 0., 0., 4., 0., 0.],\n",
       "        [0., 4., 0., 0., 0., 0., 0., 0., 0., 5., 0., 0.]], device='cuda:0')"
      ]
     },
     "execution_count": 74,
     "metadata": {},
     "output_type": "execute_result"
    }
   ],
   "source": [
    "import torch\n",
    "\n",
    "device = 'cuda' if torch.cuda.is_available() else 'cpu'\n",
    "dims = [torch.arange(0, e+1, dtype=torch.float32, device=device)  for e in formula_array]\n",
    "prod = torch.cartesian_prod(*dims)\n",
    "print(prod.shape)\n",
    "prod[:30]"
   ]
  },
  {
   "cell_type": "code",
   "execution_count": 87,
   "metadata": {},
   "outputs": [
    {
     "data": {
      "text/plain": [
       "tensor([-5.4860e-04,  1.5994e+01,  3.1989e+01,  ...,  1.8814e+02,\n",
       "         2.0414e+02,  2.2013e+02], device='cuda:0')"
      ]
     },
     "execution_count": 87,
     "metadata": {},
     "output_type": "execute_result"
    }
   ],
   "source": [
    "ele_mass_arr = torch.tensor([\n",
    "    12.000000, 1.007825, 78.918336, 34.968853, 18.998403, 126.904473, 38.963707, 14.003074,\n",
    "    22.989769, 15.994915, 30.973762, 31.972071\n",
    "], dtype=torch.float32, device=device)\n",
    "electron_mass = 0.0005486\n",
    "adduct_charge = 1\n",
    "mass_arr = prod @ ele_mass_arr - adduct_charge * electron_mass\n",
    "mass_arr"
   ]
  },
  {
   "cell_type": "code",
   "execution_count": 94,
   "metadata": {},
   "outputs": [
    {
     "data": {
      "text/plain": [
       "[array([[[[[[[[[[[[10]]]]]]]]]]]], dtype=int16),\n",
       " array([[[[[[[[[[[[20]]]]]]]]]]]], dtype=int16),\n",
       " array([[[[[[[[[[[[0]]]]]]]]]]]], dtype=int16),\n",
       " array([[[[[[[[[[[[0]]]]]]]]]]]], dtype=int16),\n",
       " array([[[[[[[[[[[[0]]]]]]]]]]]], dtype=int16),\n",
       " array([[[[[[[[[[[[0]]]]]]]]]]]], dtype=int16),\n",
       " array([[[[[[[[[[[[0]]]]]]]]]]]], dtype=int16),\n",
       " array([[[[[[[[[[[[0]]]]]]]]]]]], dtype=int16),\n",
       " array([[[[[[[[[[[[0]]]]]]]]]]]], dtype=int16),\n",
       " array([[[[[[[[[[[[5]]]]]]]]]]]], dtype=int16),\n",
       " array([[[[[[[[[[[[0]]]]]]]]]]]], dtype=int16),\n",
       " array([[[[[[[[[[[[0]]]]]]]]]]]], dtype=int16)]"
      ]
     },
     "execution_count": 94,
     "metadata": {},
     "output_type": "execute_result"
    }
   ],
   "source": [
    "np.meshgrid(*formula_array)"
   ]
  },
  {
   "cell_type": "code",
   "execution_count": 83,
   "metadata": {},
   "outputs": [
    {
     "data": {
      "text/plain": [
       "torch.Size([1386])"
      ]
     },
     "execution_count": 83,
     "metadata": {},
     "output_type": "execute_result"
    }
   ],
   "source": [
    "mass_arr.shape"
   ]
  },
  {
   "cell_type": "code",
   "execution_count": 73,
   "metadata": {},
   "outputs": [
    {
     "data": {
      "text/plain": [
       "[tensor([ 0,  1,  2,  3,  4,  5,  6,  7,  8,  9, 10], device='cuda:0',\n",
       "        dtype=torch.int32),\n",
       " tensor([ 0,  1,  2,  3,  4,  5,  6,  7,  8,  9, 10, 11, 12, 13, 14, 15, 16, 17,\n",
       "         18, 19, 20], device='cuda:0', dtype=torch.int32),\n",
       " tensor([0], device='cuda:0', dtype=torch.int32),\n",
       " tensor([0], device='cuda:0', dtype=torch.int32),\n",
       " tensor([0], device='cuda:0', dtype=torch.int32),\n",
       " tensor([0], device='cuda:0', dtype=torch.int32),\n",
       " tensor([0], device='cuda:0', dtype=torch.int32),\n",
       " tensor([0], device='cuda:0', dtype=torch.int32),\n",
       " tensor([0], device='cuda:0', dtype=torch.int32),\n",
       " tensor([0, 1, 2, 3, 4, 5], device='cuda:0', dtype=torch.int32),\n",
       " tensor([0], device='cuda:0', dtype=torch.int32),\n",
       " tensor([0], device='cuda:0', dtype=torch.int32)]"
      ]
     },
     "execution_count": 73,
     "metadata": {},
     "output_type": "execute_result"
    }
   ],
   "source": [
    "dims"
   ]
  },
  {
   "cell_type": "code",
   "execution_count": 67,
   "metadata": {},
   "outputs": [
    {
     "data": {
      "text/plain": [
       "tensor([[0, 0, 0, 0, 0, 0, 0, 0, 0, 0, 0, 0],\n",
       "        [0, 0, 0, 0, 0, 0, 0, 0, 0, 1, 0, 0],\n",
       "        [0, 0, 0, 0, 0, 0, 0, 0, 0, 2, 0, 0],\n",
       "        [0, 0, 0, 0, 0, 0, 0, 0, 0, 3, 0, 0],\n",
       "        [0, 0, 0, 0, 0, 0, 0, 0, 0, 4, 0, 0],\n",
       "        [0, 0, 0, 0, 0, 0, 0, 0, 0, 5, 0, 0],\n",
       "        [0, 1, 0, 0, 0, 0, 0, 0, 0, 0, 0, 0],\n",
       "        [0, 1, 0, 0, 0, 0, 0, 0, 0, 1, 0, 0],\n",
       "        [0, 1, 0, 0, 0, 0, 0, 0, 0, 2, 0, 0],\n",
       "        [0, 1, 0, 0, 0, 0, 0, 0, 0, 3, 0, 0],\n",
       "        [0, 1, 0, 0, 0, 0, 0, 0, 0, 4, 0, 0],\n",
       "        [0, 1, 0, 0, 0, 0, 0, 0, 0, 5, 0, 0],\n",
       "        [0, 2, 0, 0, 0, 0, 0, 0, 0, 0, 0, 0],\n",
       "        [0, 2, 0, 0, 0, 0, 0, 0, 0, 1, 0, 0],\n",
       "        [0, 2, 0, 0, 0, 0, 0, 0, 0, 2, 0, 0],\n",
       "        [0, 2, 0, 0, 0, 0, 0, 0, 0, 3, 0, 0],\n",
       "        [0, 2, 0, 0, 0, 0, 0, 0, 0, 4, 0, 0],\n",
       "        [0, 2, 0, 0, 0, 0, 0, 0, 0, 5, 0, 0],\n",
       "        [0, 3, 0, 0, 0, 0, 0, 0, 0, 0, 0, 0],\n",
       "        [0, 3, 0, 0, 0, 0, 0, 0, 0, 1, 0, 0],\n",
       "        [0, 3, 0, 0, 0, 0, 0, 0, 0, 2, 0, 0],\n",
       "        [0, 3, 0, 0, 0, 0, 0, 0, 0, 3, 0, 0],\n",
       "        [0, 3, 0, 0, 0, 0, 0, 0, 0, 4, 0, 0],\n",
       "        [0, 3, 0, 0, 0, 0, 0, 0, 0, 5, 0, 0],\n",
       "        [0, 4, 0, 0, 0, 0, 0, 0, 0, 0, 0, 0],\n",
       "        [0, 4, 0, 0, 0, 0, 0, 0, 0, 1, 0, 0],\n",
       "        [0, 4, 0, 0, 0, 0, 0, 0, 0, 2, 0, 0],\n",
       "        [0, 4, 0, 0, 0, 0, 0, 0, 0, 3, 0, 0],\n",
       "        [0, 4, 0, 0, 0, 0, 0, 0, 0, 4, 0, 0],\n",
       "        [0, 4, 0, 0, 0, 0, 0, 0, 0, 5, 0, 0]], device='cuda:0',\n",
       "       dtype=torch.int32)"
      ]
     },
     "execution_count": 67,
     "metadata": {},
     "output_type": "execute_result"
    }
   ],
   "source": [
    "prod[:30]"
   ]
  },
  {
   "cell_type": "code",
   "execution_count": 23,
   "metadata": {},
   "outputs": [],
   "source": [
    "import matplotlib.pyplot as plt\n",
    "\n",
    "# plt.figure(figsize=(10,50))\n",
    "# plt.imshow(arr)"
   ]
  },
  {
   "cell_type": "code",
   "execution_count": 24,
   "metadata": {},
   "outputs": [
    {
     "data": {
      "text/plain": [
       "0.22456709956709955"
      ]
     },
     "execution_count": 24,
     "metadata": {},
     "output_type": "execute_result"
    }
   ],
   "source": [
    "(arr > 0).mean()"
   ]
  },
  {
   "cell_type": "code",
   "execution_count": 14,
   "metadata": {},
   "outputs": [
    {
     "data": {
      "text/plain": [
       "array([10, 20,  0,  0,  0,  0,  0,  0,  0,  5,  0,  0], dtype=int16)"
      ]
     },
     "execution_count": 14,
     "metadata": {},
     "output_type": "execute_result"
    }
   ],
   "source": [
    "formula_array"
   ]
  },
  {
   "cell_type": "code",
   "execution_count": null,
   "metadata": {},
   "outputs": [],
   "source": [
    "import torch"
   ]
  }
 ],
 "metadata": {
  "kernelspec": {
   "display_name": "Python 3",
   "language": "python",
   "name": "python3"
  },
  "language_info": {
   "codemirror_mode": {
    "name": "ipython",
    "version": 3
   },
   "file_extension": ".py",
   "mimetype": "text/x-python",
   "name": "python",
   "nbconvert_exporter": "python",
   "pygments_lexer": "ipython3",
   "version": "3.11.8"
  }
 },
 "nbformat": 4,
 "nbformat_minor": 2
}
